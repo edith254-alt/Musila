{
  "nbformat": 4,
  "nbformat_minor": 0,
  "metadata": {
    "colab": {
      "provenance": [],
      "authorship_tag": "ABX9TyPLkCjhwDkCiXzOlguQb+HO",
      "include_colab_link": true
    },
    "kernelspec": {
      "name": "python3",
      "display_name": "Python 3"
    },
    "language_info": {
      "name": "python"
    }
  },
  "cells": [
    {
      "cell_type": "markdown",
      "metadata": {
        "id": "view-in-github",
        "colab_type": "text"
      },
      "source": [
        "<a href=\"https://colab.research.google.com/github/edith254-alt/Musila/blob/main/Copy_of_Untitled1.ipynb\" target=\"_parent\"><img src=\"https://colab.research.google.com/assets/colab-badge.svg\" alt=\"Open In Colab\"/></a>"
      ]
    },
    {
      "cell_type": "code",
      "execution_count": null,
      "metadata": {
        "id": "VEzbeW7jyt-O"
      },
      "outputs": [],
      "source": [
        "import cv2\n",
        "import numpy as np\n",
        "import matplotlib.pyplot as plt\n",
        "import os\n",
        "\n",
        "# === Base paths ===\n",
        "sample_folder = r\"C:\\Users\\DELL\\Desktop\\2 NIR IMAGES\\2 uninfected sample  images\\sample 2 images\\sample images\"\n",
        "ref_folder    = r\"C:\\Users\\DELL\\Desktop\\2 NIR IMAGES\\2 uninfected sample  images\\sample 2 images\\reference images\"\n",
        "\n",
        "# === Output path for the absorbance map plots (without colorbar) ===\n",
        "output_plot_folder = r\"C:\\Users\\DELL\\Desktop\\2 NIR IMAGES\\2 uninfected sample  images\\sample 2 images\\absorbance maps\" # Renamed folder for clarity\n",
        "os.makedirs(output_plot_folder, exist_ok=True) # Create the output folder if it doesn't exist\n",
        "\n",
        "# === Wavelengths to process ===\n",
        "wavelengths = \"405nm, 430nm, 645nm, 660nm, 670nm, 680nm, 800nm, 850nm\"\n",
        "wavelength_list = [w.strip() for w in wavelengths.split(\",\")]\n",
        "\n",
        "# === Loop through each wavelength ===\n",
        "for wavelength in wavelength_list:\n",
        "    print(f\"\\n🔍 Processing: {wavelength}\")\n",
        "\n",
        "    # Construct correct paths\n",
        "    sample_path = os.path.join(sample_folder, wavelength, \"image_1.png\")\n",
        "    ref_path    = os.path.join(ref_folder, wavelength, \"image_1.png\")\n",
        "\n",
        "    # Load images\n",
        "    sample_color = cv2.imread(sample_path)\n",
        "    ref_color    = cv2.imread(ref_path)\n",
        "\n",
        "    if sample_color is None or ref_color is None:\n",
        "        print(f\"❌ Could not load images for {wavelength}\")\n",
        "        print(f\"    Sample path: {sample_path}\")\n",
        "        print(f\"    Ref path:    {ref_path}\")\n",
        "        continue\n",
        "\n",
        "    # Convert to grayscale and float32 (for calculations)\n",
        "    sample = cv2.cvtColor(sample_color, cv2.COLOR_BGR2GRAY).astype(np.float32) # I\n",
        "    ref    = cv2.cvtColor(ref_color, cv2.COLOR_BGR2GRAY).astype(np.float32)    # I0\n",
        "\n",
        "    # Small value to avoid divide-by-zero or log(0)\n",
        "    epsilon = 1e-6\n",
        "\n",
        "    # === Calculate Transmittance (T = I / I0) ===\n",
        "    transmittance = sample / (ref + epsilon)\n",
        "    transmittance = np.clip(transmittance, epsilon, 1.0 - epsilon) # Clip for valid log range\n",
        "\n",
        "    # === Compute Absorbance (A = -ln(T)) ===\n",
        "    absorbance = -np.log(transmittance)\n",
        "\n",
        "    # Normalize absorbance to 0-255 uint8 for consistent display with matplotlib\n",
        "    abs_display = cv2.normalize(absorbance, None, 0, 255, cv2.NORM_MINMAX).astype(np.uint8)\n",
        "\n",
        "    # === Create and save the Matplotlib plot (without colorbar) ===\n",
        "    plt.figure(figsize=(7, 6)) # Adjusted figsize slightly as colorbar is removed\n",
        "\n",
        "    plt.imshow(abs_display, cmap='inferno') # Use 'inferno' colormap\n",
        "    #plt.title(f'Absorbance Map - {wavelength}') # Dynamic title with wavelength\n",
        "    # plt.colorbar(label='Normalized Absorbance Value') # Colorbar is commented out\n",
        "    plt.axis('off') # Turn off axes for a clean appearance\n",
        "\n",
        "    plt.tight_layout() # Adjust layout\n",
        "\n",
        "    # === Save the Matplotlib plot ===\n",
        "    # This line uses the 'wavelength' variable directly in the filename\n",
        "    plot_filename = f\"absorbance_map_plot_{wavelength}.png\"\n",
        "    plot_save_path = os.path.join(output_plot_folder, plot_filename)\n",
        "    plt.savefig(plot_save_path, bbox_inches='tight', dpi=300) # Save the plot with high quality\n",
        "    print(f\"✅ Saved Absorbance Map plot to: {plot_save_path}\")\n",
        "\n",
        "    plt.show() # Display the plot window (optional)\n",
        "    plt.close() # Close the plot window to free up memory"
      ]
    }
  ]
}
